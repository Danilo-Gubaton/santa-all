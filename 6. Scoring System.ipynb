{
 "metadata": {
  "language_info": {
   "codemirror_mode": {
    "name": "ipython",
    "version": 3
   },
   "file_extension": ".py",
   "mimetype": "text/x-python",
   "name": "python",
   "nbconvert_exporter": "python",
   "pygments_lexer": "ipython3",
   "version": "3.7.6-final"
  },
  "orig_nbformat": 2,
  "kernelspec": {
   "name": "python3",
   "display_name": "Python 3"
  }
 },
 "nbformat": 4,
 "nbformat_minor": 2,
 "cells": [
  {
   "source": [
    "# Feature Engineering\n",
    "## 1. Create new columns for scoring system"
   ],
   "cell_type": "markdown",
   "metadata": {}
  },
  {
   "cell_type": "code",
   "execution_count": 2,
   "metadata": {},
   "outputs": [
    {
     "output_type": "display_data",
     "data": {
      "text/plain": "   Price Range\n0         18.0\n1         64.0\n2         59.0",
      "text/html": "<div>\n<style scoped>\n    .dataframe tbody tr th:only-of-type {\n        vertical-align: middle;\n    }\n\n    .dataframe tbody tr th {\n        vertical-align: top;\n    }\n\n    .dataframe thead th {\n        text-align: right;\n    }\n</style>\n<table border=\"1\" class=\"dataframe\">\n  <thead>\n    <tr style=\"text-align: right;\">\n      <th></th>\n      <th>Price Range</th>\n    </tr>\n  </thead>\n  <tbody>\n    <tr>\n      <th>0</th>\n      <td>18.0</td>\n    </tr>\n    <tr>\n      <th>1</th>\n      <td>64.0</td>\n    </tr>\n    <tr>\n      <th>2</th>\n      <td>59.0</td>\n    </tr>\n  </tbody>\n</table>\n</div>"
     },
     "metadata": {}
    },
    {
     "output_type": "display_data",
     "data": {
      "text/plain": "   Trusted  Highly Rated  Discounted  Top Selling  High Interest\n0     True          True        True        False          False\n1    False          True        True        False          False\n2    False          True        True        False          False",
      "text/html": "<div>\n<style scoped>\n    .dataframe tbody tr th:only-of-type {\n        vertical-align: middle;\n    }\n\n    .dataframe tbody tr th {\n        vertical-align: top;\n    }\n\n    .dataframe thead th {\n        text-align: right;\n    }\n</style>\n<table border=\"1\" class=\"dataframe\">\n  <thead>\n    <tr style=\"text-align: right;\">\n      <th></th>\n      <th>Trusted</th>\n      <th>Highly Rated</th>\n      <th>Discounted</th>\n      <th>Top Selling</th>\n      <th>High Interest</th>\n    </tr>\n  </thead>\n  <tbody>\n    <tr>\n      <th>0</th>\n      <td>True</td>\n      <td>True</td>\n      <td>True</td>\n      <td>False</td>\n      <td>False</td>\n    </tr>\n    <tr>\n      <th>1</th>\n      <td>False</td>\n      <td>True</td>\n      <td>True</td>\n      <td>False</td>\n      <td>False</td>\n    </tr>\n    <tr>\n      <th>2</th>\n      <td>False</td>\n      <td>True</td>\n      <td>True</td>\n      <td>False</td>\n      <td>False</td>\n    </tr>\n  </tbody>\n</table>\n</div>"
     },
     "metadata": {}
    }
   ],
   "source": [
    "import numpy as np\n",
    "import pandas as pd\n",
    "from sklearn.preprocessing import MinMaxScaler\n",
    "scaler = MinMaxScaler()\n",
    "\n",
    "df_cleaned = pd.read_csv('cleaned_data.csv')\n",
    "\n",
    "df_eng = df_cleaned.copy()\n",
    "df_eng['Discount Percent'] = df_eng['Discount Range']-df_eng['Price Range']\n",
    "df_eng['Total Sold'] = scaler.fit_transform(df_eng[['Total Sold']])\n",
    "df_eng['High Interest'] = scaler.fit_transform(df_eng[['Favorite']])\n",
    "\n",
    "# Conditions\n",
    "df_eng['Highly Rated'] = df_eng['Current Rating'].astype(float).map(lambda x: True if x>4.2 else False)\n",
    "df_eng['Discounted'] = df_eng['Discount Percent'].astype(float).map(lambda x: True if x>0.03 else False)\n",
    "df_eng['Top Selling'] = df_eng['Total Sold'].map(lambda x: True if x>0.15 else False)\n",
    "df_eng['High Interest'] = df_eng['High Interest'].map(lambda x: True if x>0.15 else False)\n",
    "\n",
    "# Scale\n",
    "# df_eng['Current Rating'] = scaler.fit_transform(df_eng[['Current Rating']])\n",
    "# df_eng['Price Range'] = scaler.fit_transform(df_eng[['Price Range']])\n",
    "\n",
    "# New Columns\n",
    "df_eng['Trusted'] = df_eng.apply(lambda x: x['Preferred'] | x['Mall'], axis=1)\n",
    "\n",
    "model_features = ['Price Range']\n",
    "scoring_criteria = ['Trusted', 'Highly Rated', 'Discounted', 'Top Selling', 'High Interest']\n",
    "\n",
    "display(df_eng[model_features].head(3))\n",
    "display(df_eng[scoring_criteria].head(3))"
   ]
  },
  {
   "source": [
    "# Scoring System\n",
    "## 1. Get 10 sample products for scoring system. Replace this with Model's output product list once available."
   ],
   "cell_type": "markdown",
   "metadata": {}
  },
  {
   "cell_type": "code",
   "execution_count": 3,
   "metadata": {},
   "outputs": [
    {
     "output_type": "execute_result",
     "data": {
      "text/plain": [
       "       Unnamed: 0                                                URL  Page  \\\n",
       "10937       10966  https://shopee.ph/COMFORTABLE-TO-WEAR-NEOPRENE...  65.0   \n",
       "5799         5814  https://shopee.ph/Rohto-Eyedrops-Japan-2023-Ex...  38.0   \n",
       "15230       15338  https://shopee.ph/-COD-Sexy-Panty-Women-Lace-U...  37.0   \n",
       "\n",
       "       Preferred   Mall                                       Product Name  \\\n",
       "10937      False  False  COMFORTABLE TO WEAR NEOPRENE WASHABLE FACE MAS...   \n",
       "5799        True  False               Rohto Eyedrops Japan 2023 Expiration   \n",
       "15230      False  False  [ COD ] Sexy Panty Women Lace Underwear Cotton...   \n",
       "\n",
       "                Main Category        Sub Category 1   Sub Category 2  \\\n",
       "10937         Sports & Travel    Travel Accessories  Pollution Masks   \n",
       "5799   Health & Personal Care         Personal Care         Eye Care   \n",
       "15230         Women's Apparel  Lingerie & Nightwear            Panty   \n",
       "\n",
       "       Current Rating  ...  With Media  \\\n",
       "10937             4.8  ...          43   \n",
       "5799              5.0  ...         226   \n",
       "15230             4.9  ...           0   \n",
       "\n",
       "                                             Description  Discount Percent  \\\n",
       "10937  b'So comfortable to wearWell-sewnHigh qualityW...             -22.0   \n",
       "5799   Authenticity GuaranteedExpiration 2022📌Blue: I...            -172.0   \n",
       "15230                                                b''              90.0   \n",
       "\n",
       "       High Interest  Highly Rated  Discounted  Top Selling Trusted relevance  \\\n",
       "10937          False          True       False        False   False  0.429273   \n",
       "5799           False          True       False        False    True  0.884201   \n",
       "15230          False          True        True        False   False  0.116233   \n",
       "\n",
       "          score  \n",
       "10937  0.429273  \n",
       "5799   0.884201  \n",
       "15230  0.116233  \n",
       "\n",
       "[3 rows x 51 columns]"
      ],
      "text/html": "<div>\n<style scoped>\n    .dataframe tbody tr th:only-of-type {\n        vertical-align: middle;\n    }\n\n    .dataframe tbody tr th {\n        vertical-align: top;\n    }\n\n    .dataframe thead th {\n        text-align: right;\n    }\n</style>\n<table border=\"1\" class=\"dataframe\">\n  <thead>\n    <tr style=\"text-align: right;\">\n      <th></th>\n      <th>Unnamed: 0</th>\n      <th>URL</th>\n      <th>Page</th>\n      <th>Preferred</th>\n      <th>Mall</th>\n      <th>Product Name</th>\n      <th>Main Category</th>\n      <th>Sub Category 1</th>\n      <th>Sub Category 2</th>\n      <th>Current Rating</th>\n      <th>...</th>\n      <th>With Media</th>\n      <th>Description</th>\n      <th>Discount Percent</th>\n      <th>High Interest</th>\n      <th>Highly Rated</th>\n      <th>Discounted</th>\n      <th>Top Selling</th>\n      <th>Trusted</th>\n      <th>relevance</th>\n      <th>score</th>\n    </tr>\n  </thead>\n  <tbody>\n    <tr>\n      <th>10937</th>\n      <td>10966</td>\n      <td>https://shopee.ph/COMFORTABLE-TO-WEAR-NEOPRENE...</td>\n      <td>65.0</td>\n      <td>False</td>\n      <td>False</td>\n      <td>COMFORTABLE TO WEAR NEOPRENE WASHABLE FACE MAS...</td>\n      <td>Sports &amp; Travel</td>\n      <td>Travel Accessories</td>\n      <td>Pollution Masks</td>\n      <td>4.8</td>\n      <td>...</td>\n      <td>43</td>\n      <td>b'So comfortable to wearWell-sewnHigh qualityW...</td>\n      <td>-22.0</td>\n      <td>False</td>\n      <td>True</td>\n      <td>False</td>\n      <td>False</td>\n      <td>False</td>\n      <td>0.429273</td>\n      <td>0.429273</td>\n    </tr>\n    <tr>\n      <th>5799</th>\n      <td>5814</td>\n      <td>https://shopee.ph/Rohto-Eyedrops-Japan-2023-Ex...</td>\n      <td>38.0</td>\n      <td>True</td>\n      <td>False</td>\n      <td>Rohto Eyedrops Japan 2023 Expiration</td>\n      <td>Health &amp; Personal Care</td>\n      <td>Personal Care</td>\n      <td>Eye Care</td>\n      <td>5.0</td>\n      <td>...</td>\n      <td>226</td>\n      <td>Authenticity GuaranteedExpiration 2022📌Blue: I...</td>\n      <td>-172.0</td>\n      <td>False</td>\n      <td>True</td>\n      <td>False</td>\n      <td>False</td>\n      <td>True</td>\n      <td>0.884201</td>\n      <td>0.884201</td>\n    </tr>\n    <tr>\n      <th>15230</th>\n      <td>15338</td>\n      <td>https://shopee.ph/-COD-Sexy-Panty-Women-Lace-U...</td>\n      <td>37.0</td>\n      <td>False</td>\n      <td>False</td>\n      <td>[ COD ] Sexy Panty Women Lace Underwear Cotton...</td>\n      <td>Women's Apparel</td>\n      <td>Lingerie &amp; Nightwear</td>\n      <td>Panty</td>\n      <td>4.9</td>\n      <td>...</td>\n      <td>0</td>\n      <td>b''</td>\n      <td>90.0</td>\n      <td>False</td>\n      <td>True</td>\n      <td>True</td>\n      <td>False</td>\n      <td>False</td>\n      <td>0.116233</td>\n      <td>0.116233</td>\n    </tr>\n  </tbody>\n</table>\n<p>3 rows × 51 columns</p>\n</div>"
     },
     "metadata": {},
     "execution_count": 3
    }
   ],
   "source": [
    "import random\n",
    "\n",
    "# nearest = df_eng['Product ID'].isin(nearest['Product ID']).astype(int)\n",
    "\n",
    "# Getting dummy products\n",
    "prd_list = df_eng.sample(n=20)\n",
    "prd_list['relevance'] = np.random.uniform(0, 1, prd_list.shape[0])\n",
    "prd_list['score'] = prd_list['relevance']\n",
    "prd_list.head(3)"
   ]
  },
  {
   "source": [
    "## 2. Score and sort products"
   ],
   "cell_type": "markdown",
   "metadata": {}
  },
  {
   "cell_type": "code",
   "execution_count": 4,
   "metadata": {},
   "outputs": [
    {
     "output_type": "display_data",
     "data": {
      "text/plain": "['Trusted', 'Highly Rated', 'Discounted', 'Top Selling', 'High Interest']"
     },
     "metadata": {}
    },
    {
     "output_type": "display_data",
     "data": {
      "text/plain": "                                            Product Name  Trusted  \\\n4974   Luxe Organix Niacinamide (Vit B3) Miracle Repa...     True   \n7643          WISDOM 294 6Colors BALLPEN school supplies     True   \n5799                Rohto Eyedrops Japan 2023 Expiration     True   \n5792   Made in Japan Face Mask Surgical Disposable 3p...    False   \n15493  Kelly Cod Beltbag Waist Bag Fanny Pack Sidebag...    False   \n\n       Highly Rated  Discounted  Top Selling  High Interest  relevance  \\\n4974           True       False        False          False   0.943544   \n7643           True        True        False          False   0.934876   \n5799           True       False        False          False   0.884201   \n5792           True       False        False          False   0.882064   \n15493          True        True        False          False   0.872288   \n\n          score  \n4974   0.943544  \n7643   0.934876  \n5799   0.884201  \n5792   0.882064  \n15493  0.872288  ",
      "text/html": "<div>\n<style scoped>\n    .dataframe tbody tr th:only-of-type {\n        vertical-align: middle;\n    }\n\n    .dataframe tbody tr th {\n        vertical-align: top;\n    }\n\n    .dataframe thead th {\n        text-align: right;\n    }\n</style>\n<table border=\"1\" class=\"dataframe\">\n  <thead>\n    <tr style=\"text-align: right;\">\n      <th></th>\n      <th>Product Name</th>\n      <th>Trusted</th>\n      <th>Highly Rated</th>\n      <th>Discounted</th>\n      <th>Top Selling</th>\n      <th>High Interest</th>\n      <th>relevance</th>\n      <th>score</th>\n    </tr>\n  </thead>\n  <tbody>\n    <tr>\n      <th>4974</th>\n      <td>Luxe Organix Niacinamide (Vit B3) Miracle Repa...</td>\n      <td>True</td>\n      <td>True</td>\n      <td>False</td>\n      <td>False</td>\n      <td>False</td>\n      <td>0.943544</td>\n      <td>0.943544</td>\n    </tr>\n    <tr>\n      <th>7643</th>\n      <td>WISDOM 294 6Colors BALLPEN school supplies</td>\n      <td>True</td>\n      <td>True</td>\n      <td>True</td>\n      <td>False</td>\n      <td>False</td>\n      <td>0.934876</td>\n      <td>0.934876</td>\n    </tr>\n    <tr>\n      <th>5799</th>\n      <td>Rohto Eyedrops Japan 2023 Expiration</td>\n      <td>True</td>\n      <td>True</td>\n      <td>False</td>\n      <td>False</td>\n      <td>False</td>\n      <td>0.884201</td>\n      <td>0.884201</td>\n    </tr>\n    <tr>\n      <th>5792</th>\n      <td>Made in Japan Face Mask Surgical Disposable 3p...</td>\n      <td>False</td>\n      <td>True</td>\n      <td>False</td>\n      <td>False</td>\n      <td>False</td>\n      <td>0.882064</td>\n      <td>0.882064</td>\n    </tr>\n    <tr>\n      <th>15493</th>\n      <td>Kelly Cod Beltbag Waist Bag Fanny Pack Sidebag...</td>\n      <td>False</td>\n      <td>True</td>\n      <td>True</td>\n      <td>False</td>\n      <td>False</td>\n      <td>0.872288</td>\n      <td>0.872288</td>\n    </tr>\n  </tbody>\n</table>\n</div>"
     },
     "metadata": {}
    },
    {
     "output_type": "display_data",
     "data": {
      "text/plain": "                                            Product Name  Trusted  \\\n7643          WISDOM 294 6Colors BALLPEN school supplies     True   \n4974   Luxe Organix Niacinamide (Vit B3) Miracle Repa...     True   \n5799                Rohto Eyedrops Japan 2023 Expiration     True   \n15493  Kelly Cod Beltbag Waist Bag Fanny Pack Sidebag...    False   \n13508  7color Adult sleep pajama high quality cotton ...    False   \n\n       Highly Rated  Discounted  Top Selling  High Interest  relevance  \\\n7643           True        True        False          False   0.934876   \n4974           True       False        False          False   0.943544   \n5799           True       False        False          False   0.884201   \n15493          True        True        False          False   0.872288   \n13508          True        True        False          False   0.835680   \n\n          score  \n7643   1.084876  \n4974   1.043544  \n5799   0.984201  \n15493  0.972288  \n13508  0.935680  ",
      "text/html": "<div>\n<style scoped>\n    .dataframe tbody tr th:only-of-type {\n        vertical-align: middle;\n    }\n\n    .dataframe tbody tr th {\n        vertical-align: top;\n    }\n\n    .dataframe thead th {\n        text-align: right;\n    }\n</style>\n<table border=\"1\" class=\"dataframe\">\n  <thead>\n    <tr style=\"text-align: right;\">\n      <th></th>\n      <th>Product Name</th>\n      <th>Trusted</th>\n      <th>Highly Rated</th>\n      <th>Discounted</th>\n      <th>Top Selling</th>\n      <th>High Interest</th>\n      <th>relevance</th>\n      <th>score</th>\n    </tr>\n  </thead>\n  <tbody>\n    <tr>\n      <th>7643</th>\n      <td>WISDOM 294 6Colors BALLPEN school supplies</td>\n      <td>True</td>\n      <td>True</td>\n      <td>True</td>\n      <td>False</td>\n      <td>False</td>\n      <td>0.934876</td>\n      <td>1.084876</td>\n    </tr>\n    <tr>\n      <th>4974</th>\n      <td>Luxe Organix Niacinamide (Vit B3) Miracle Repa...</td>\n      <td>True</td>\n      <td>True</td>\n      <td>False</td>\n      <td>False</td>\n      <td>False</td>\n      <td>0.943544</td>\n      <td>1.043544</td>\n    </tr>\n    <tr>\n      <th>5799</th>\n      <td>Rohto Eyedrops Japan 2023 Expiration</td>\n      <td>True</td>\n      <td>True</td>\n      <td>False</td>\n      <td>False</td>\n      <td>False</td>\n      <td>0.884201</td>\n      <td>0.984201</td>\n    </tr>\n    <tr>\n      <th>15493</th>\n      <td>Kelly Cod Beltbag Waist Bag Fanny Pack Sidebag...</td>\n      <td>False</td>\n      <td>True</td>\n      <td>True</td>\n      <td>False</td>\n      <td>False</td>\n      <td>0.872288</td>\n      <td>0.972288</td>\n    </tr>\n    <tr>\n      <th>13508</th>\n      <td>7color Adult sleep pajama high quality cotton ...</td>\n      <td>False</td>\n      <td>True</td>\n      <td>True</td>\n      <td>False</td>\n      <td>False</td>\n      <td>0.835680</td>\n      <td>0.935680</td>\n    </tr>\n  </tbody>\n</table>\n</div>"
     },
     "metadata": {}
    }
   ],
   "source": [
    "# Testing scoring system on dummy products\n",
    "\n",
    "# Filtering low quality products\n",
    "scored_list = prd_list[prd_list['Current Rating'] > 3.8]\n",
    "display(scoring_criteria)\n",
    "display(scored_list[['Product Name']+scoring_criteria+['relevance']+['score']].sort_values(by=['score'], ascending=False).head())\n",
    "\n",
    "# Scoring System\n",
    "trusted_bias = 0.05\n",
    "highly_rated_bias = 0.05\n",
    "discounted_bias = 0.05\n",
    "top_selling_bias = 0.05\n",
    "high_interest_bias = 0.05\n",
    "\n",
    "scored_list['score'] = scored_list.apply(lambda x: x['score']+trusted_bias if x['Trusted'] == True else x['score'], axis=1)\n",
    "scored_list['score'] = scored_list.apply(lambda x: x['score']+highly_rated_bias if x['Highly Rated'] == True else x['score'], axis=1)\n",
    "scored_list['score'] = scored_list.apply(lambda x: x['score']+discounted_bias if x['Discounted'] == True else x['score'], axis=1)\n",
    "scored_list['score'] = scored_list.apply(lambda x: x['score']+top_selling_bias if x['Top Selling'] == True else x['score'], axis=1)\n",
    "scored_list['score'] = scored_list.apply(lambda x: x['score']+high_interest_bias if x['High Interest'] == True else x['score'], axis=1)\n",
    "display(scored_list[['Product Name']+scoring_criteria+['relevance']+['score']].sort_values(by=['score'], ascending=False).head())"
   ]
  },
  {
   "cell_type": "code",
   "execution_count": null,
   "metadata": {},
   "outputs": [],
   "source": []
  }
 ]
}