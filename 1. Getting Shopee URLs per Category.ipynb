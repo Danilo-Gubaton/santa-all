{
 "cells": [
  {
   "cell_type": "code",
   "execution_count": 1,
   "metadata": {},
   "outputs": [],
   "source": [
    "import csv\n",
    "import json\n",
    "import os.path\n",
    "import pandas as pd\n",
    "import random\n",
    "\n",
    "from selenium import webdriver\n",
    "from selenium.webdriver.support.ui import WebDriverWait\n",
    "from time import sleep"
   ]
  },
  {
   "cell_type": "markdown",
   "metadata": {},
   "source": [
    "### Initialize Chrome Driver Directory"
   ]
  },
  {
   "cell_type": "code",
   "execution_count": null,
   "metadata": {},
   "outputs": [],
   "source": [
    "driver = webdriver.Chrome(executable_path='<chromedriver_path>')"
   ]
  },
  {
   "cell_type": "markdown",
   "metadata": {},
   "source": [
    "### List of Available Categories on Shopee"
   ]
  },
  {
   "cell_type": "code",
   "execution_count": null,
   "metadata": {},
   "outputs": [],
   "source": [
    "categories = ['Babies-Kids-cat.113', 'Cameras-cat.18560', 'Diapers-Wipes-cat.113.1731', 'Digital-Goods-Vouchers-cat.15580',\n",
    "             'Gaming-cat.20718', 'Groceries-cat.363', 'Health-Personal-Care-cat.107', 'Hobbies-Stationery-cat.13612',\n",
    "             'Home-Living-cat.112', 'Home-Appliances-cat.15509', 'Home-Entertainment-cat.18529', 'Laptops-Computers-cat.18596',\n",
    "             'Makeup-Fragrances-cat.15816', \"Men's-Apparel-cat.103\", \"Men's-Bags-Accessories-cat.2755\", \n",
    "             \"Men's-Shoes-cat.123\", \"Mobile-Accessories-cat.109\", 'Mobiles-Gadgets-cat.24456', 'Motors-cat.15769',\n",
    "             'Pet-Care-cat.21292', 'Sports-Travel-cat.1029', 'Toys-Games-Collectibles-cat.115', \"Women's-Accessories-cat.106\",\n",
    "             \"Women's-Apparel-cat.102\", 'Swimsuits-cat.102.457', \"Women's-Bags-cat.1713\", \"Women's-Shoes-cat.531\"]"
   ]
  },
  {
   "cell_type": "markdown",
   "metadata": {},
   "source": [
    "### Directory to Save Results"
   ]
  },
  {
   "cell_type": "code",
   "execution_count": null,
   "metadata": {},
   "outputs": [],
   "source": [
    "save_directory = '<your_directory>'"
   ]
  },
  {
   "cell_type": "code",
   "execution_count": null,
   "metadata": {},
   "outputs": [],
   "source": [
    "BASE_URL = 'https://shopee.ph/'\n",
    "\n",
    "def main():\n",
    "    \n",
    "    \n",
    "    for category in categories:\n",
    "        page_number = 0\n",
    "        \n",
    "        ## Creating Columns\n",
    "        with open('{}/{}.csv'.format(save_directory, category), 'w', newline='') as file:\n",
    "            writer = csv.writer(file)\n",
    "            writer.writerow([\"URL\", \"Page\"])\n",
    "            \n",
    "        ## Extract Links from the main page\n",
    "        while page_number <= 99:\n",
    "            with open('{}/{}.csv'.format(save_directory, category), 'a', newline='') as file:\n",
    "                writer = csv.writer(file)\n",
    "\n",
    "                target_page = BASE_URL + category+\"?page=\"+str(page_number)+\"&sortBy=sales\"\n",
    "                driver.get(target_page)\n",
    "                sleep(random.randint(3, 4))\n",
    "\n",
    "                ## Scroll to Show Results\n",
    "                total_height = int(driver.execute_script(\"return document.body.scrollHeight\"))\n",
    "                available_links = []\n",
    "                for i in range(1, total_height, 5):\n",
    "                    driver.execute_script(\"window.scrollTo(0, {});\".format(i))\n",
    "\n",
    "                ## Getting Links per Page\n",
    "                links=driver.find_elements_by_xpath(\"//a[@href]\")\n",
    "                for link in links:\n",
    "                    text = link.text.split(\"\\n\")\n",
    "                    if len(text) > 2:\n",
    "                        writer.writerow([link.get_attribute('href'), page_number])\n",
    "                    \n",
    "        page_number +=1\n",
    "        sleep(1)\n",
    "        \n",
    "        \n",
    "if __name__ == \"__main__\":\n",
    "    main() "
   ]
  }
 ],
 "metadata": {
  "kernelspec": {
   "display_name": "Python 3",
   "language": "python",
   "name": "python3"
  },
  "language_info": {
   "codemirror_mode": {
    "name": "ipython",
    "version": 3
   },
   "file_extension": ".py",
   "mimetype": "text/x-python",
   "name": "python",
   "nbconvert_exporter": "python",
   "pygments_lexer": "ipython3",
   "version": "3.8.6"
  }
 },
 "nbformat": 4,
 "nbformat_minor": 4
}
