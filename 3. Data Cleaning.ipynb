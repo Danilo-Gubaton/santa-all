{
 "metadata": {
  "language_info": {
   "codemirror_mode": {
    "name": "ipython",
    "version": 3
   },
   "file_extension": ".py",
   "mimetype": "text/x-python",
   "name": "python",
   "nbconvert_exporter": "python",
   "pygments_lexer": "ipython3",
   "version": "3.7.6-final"
  },
  "orig_nbformat": 2,
  "kernelspec": {
   "name": "python3",
   "display_name": "Python 3"
  }
 },
 "nbformat": 4,
 "nbformat_minor": 2,
 "cells": [
  {
   "source": [
    "# Imports and merging dataset"
   ],
   "cell_type": "markdown",
   "metadata": {}
  },
  {
   "cell_type": "code",
   "execution_count": 48,
   "metadata": {},
   "outputs": [
    {
     "output_type": "stream",
     "name": "stdout",
     "text": [
      "C:/Users/User/Desktop/Eskwelabs/Capstone Project/Raw Data\\Babies-Kids-cat.113.2.csv\n",
      "C:/Users/User/Desktop/Eskwelabs/Capstone Project/Raw Data\\Cameras-cat.18560.2.csv\n",
      "C:/Users/User/Desktop/Eskwelabs/Capstone Project/Raw Data\\Gaming-cat.20718.csv\n",
      "C:/Users/User/Desktop/Eskwelabs/Capstone Project/Raw Data\\Health-Personal-Care-cat.2.csv\n",
      "C:/Users/User/Desktop/Eskwelabs/Capstone Project/Raw Data\\Hobbies-Stationery-cat.13612.2.csv\n",
      "C:/Users/User/Desktop/Eskwelabs/Capstone Project/Raw Data\\Home-Appliances-cat.15509.csv\n",
      "C:/Users/User/Desktop/Eskwelabs/Capstone Project/Raw Data\\Home-Entertainment-cat.18529.csv\n",
      "C:/Users/User/Desktop/Eskwelabs/Capstone Project/Raw Data\\Home-Living-cat.112.csv\n",
      "C:/Users/User/Desktop/Eskwelabs/Capstone Project/Raw Data\\Laptops-Computers-cat.18596.csv\n",
      "C:/Users/User/Desktop/Eskwelabs/Capstone Project/Raw Data\\Makeup-Fragrances-cat.15816.csv\n",
      "C:/Users/User/Desktop/Eskwelabs/Capstone Project/Raw Data\\Men_s-Apparel-cat.103.csv\n",
      "C:/Users/User/Desktop/Eskwelabs/Capstone Project/Raw Data\\Men_s-Bags-Accessories-cat.2755.csv\n",
      "C:/Users/User/Desktop/Eskwelabs/Capstone Project/Raw Data\\Men_s-Shoes-cat.123.csv\n",
      "C:/Users/User/Desktop/Eskwelabs/Capstone Project/Raw Data\\Mobiles-Gadgets-cat.24456.csv\n",
      "C:/Users/User/Desktop/Eskwelabs/Capstone Project/Raw Data\\Motors-cat.15769.csv\n",
      "C:/Users/User/Desktop/Eskwelabs/Capstone Project/Raw Data\\Pet-Care-cat.21292.csv\n",
      "C:/Users/User/Desktop/Eskwelabs/Capstone Project/Raw Data\\Sports-Travel-cat.1029.csv\n",
      "C:/Users/User/Desktop/Eskwelabs/Capstone Project/Raw Data\\Women's-Accessories-cat.106.csv\n",
      "C:/Users/User/Desktop/Eskwelabs/Capstone Project/Raw Data\\Women's-Apparel-cat.102.csv\n",
      "C:/Users/User/Desktop/Eskwelabs/Capstone Project/Raw Data\\Women's-Bags-cat.1713.csv\n",
      "C:/Users/User/Desktop/Eskwelabs/Capstone Project/Raw Data\\Women_s-Shoes-cat.531.2.csv\n",
      "Products imported: 21000\n"
     ]
    }
   ],
   "source": [
    "import numpy as np\n",
    "import pandas as pd\n",
    "import glob\n",
    "\n",
    "# Read and merge all csv files in folder\n",
    "path = r'C:/Users/User/Desktop/Eskwelabs/Capstone Project/Raw Data/'\n",
    "all_files = glob.glob(path + \"/*.csv\")\n",
    "file_list = []\n",
    "\n",
    "for filename in all_files:\n",
    "    print(filename)\n",
    "    df = pd.read_csv(filename, index_col=None, header=0)\n",
    "    file_list.append(df[0:1000])\n",
    "\n",
    "df = pd.concat(file_list, axis=0, ignore_index=True)\n",
    "print('Products imported:', df['URL'].count())"
   ]
  },
  {
   "cell_type": "code",
   "execution_count": 49,
   "metadata": {},
   "outputs": [
    {
     "output_type": "display_data",
     "data": {
      "text/plain": "                                                 URL  Page  Preferred   Mall  \\\n0  https://shopee.ph/Kids-Everyday-Leggings-Sizes...   0.0       True  False   \n1  https://shopee.ph/CUTE-PAJAMA-TERNO-SLEEPWEAR-...   0.0      False  False   \n2  https://shopee.ph/TERNO-PAJAMA-FOR-KIDS-1-T0-1...   0.0      False  False   \n\n                                        Product Name  Main Category  \\\n0  Kids Everyday Leggings Sizes for Infant-10 Yea...  Babies & Kids   \n1  CUTE PAJAMA TERNO SLEEPWEAR 1-2 yrs old wholes...  Babies & Kids   \n2                   TERNO PAJAMA FOR KIDS 1 T0 10Y.O  Babies & Kids   \n\n    Sub Category 1 Sub Category 2  Sub Category 3  Sub Category 4  ...  \\\n0   Girls' Fashion         Bottom             NaN             NaN  ...   \n1  Babies' Fashion            Set             NaN             NaN  ...   \n2   Girls' Fashion         Pajama             NaN             NaN  ...   \n\n   Lowest Price Guarantee Whole Sale      Five Star     Four Star  \\\n0                    True       True  5 Star (4.4K)  4 Star (103)   \n1                    True       True  5 Star (7.2K)  4 Star (188)   \n2                    True       True  5 Star (5.1K)  4 Star (349)   \n\n     Three Star     Two Star      One Star         With Comments  \\\n0   3 Star (42)   2 Star (8)    1 Star (9)  With Comments (1.3K)   \n1   3 Star (73)  2 Star (23)   1 Star (20)  With Comments (3.1K)   \n2  3 Star (193)  2 Star (59)  1 Star (105)  With Comments (1.8K)   \n\n         With Media Description  \n0  With Media (853)         NaN  \n1   With Media (2K)         NaN  \n2  With Media (913)         NaN  \n\n[3 rows x 44 columns]",
      "text/html": "<div>\n<style scoped>\n    .dataframe tbody tr th:only-of-type {\n        vertical-align: middle;\n    }\n\n    .dataframe tbody tr th {\n        vertical-align: top;\n    }\n\n    .dataframe thead th {\n        text-align: right;\n    }\n</style>\n<table border=\"1\" class=\"dataframe\">\n  <thead>\n    <tr style=\"text-align: right;\">\n      <th></th>\n      <th>URL</th>\n      <th>Page</th>\n      <th>Preferred</th>\n      <th>Mall</th>\n      <th>Product Name</th>\n      <th>Main Category</th>\n      <th>Sub Category 1</th>\n      <th>Sub Category 2</th>\n      <th>Sub Category 3</th>\n      <th>Sub Category 4</th>\n      <th>...</th>\n      <th>Lowest Price Guarantee</th>\n      <th>Whole Sale</th>\n      <th>Five Star</th>\n      <th>Four Star</th>\n      <th>Three Star</th>\n      <th>Two Star</th>\n      <th>One Star</th>\n      <th>With Comments</th>\n      <th>With Media</th>\n      <th>Description</th>\n    </tr>\n  </thead>\n  <tbody>\n    <tr>\n      <th>0</th>\n      <td>https://shopee.ph/Kids-Everyday-Leggings-Sizes...</td>\n      <td>0.0</td>\n      <td>True</td>\n      <td>False</td>\n      <td>Kids Everyday Leggings Sizes for Infant-10 Yea...</td>\n      <td>Babies &amp; Kids</td>\n      <td>Girls' Fashion</td>\n      <td>Bottom</td>\n      <td>NaN</td>\n      <td>NaN</td>\n      <td>...</td>\n      <td>True</td>\n      <td>True</td>\n      <td>5 Star (4.4K)</td>\n      <td>4 Star (103)</td>\n      <td>3 Star (42)</td>\n      <td>2 Star (8)</td>\n      <td>1 Star (9)</td>\n      <td>With Comments (1.3K)</td>\n      <td>With Media (853)</td>\n      <td>NaN</td>\n    </tr>\n    <tr>\n      <th>1</th>\n      <td>https://shopee.ph/CUTE-PAJAMA-TERNO-SLEEPWEAR-...</td>\n      <td>0.0</td>\n      <td>False</td>\n      <td>False</td>\n      <td>CUTE PAJAMA TERNO SLEEPWEAR 1-2 yrs old wholes...</td>\n      <td>Babies &amp; Kids</td>\n      <td>Babies' Fashion</td>\n      <td>Set</td>\n      <td>NaN</td>\n      <td>NaN</td>\n      <td>...</td>\n      <td>True</td>\n      <td>True</td>\n      <td>5 Star (7.2K)</td>\n      <td>4 Star (188)</td>\n      <td>3 Star (73)</td>\n      <td>2 Star (23)</td>\n      <td>1 Star (20)</td>\n      <td>With Comments (3.1K)</td>\n      <td>With Media (2K)</td>\n      <td>NaN</td>\n    </tr>\n    <tr>\n      <th>2</th>\n      <td>https://shopee.ph/TERNO-PAJAMA-FOR-KIDS-1-T0-1...</td>\n      <td>0.0</td>\n      <td>False</td>\n      <td>False</td>\n      <td>TERNO PAJAMA FOR KIDS 1 T0 10Y.O</td>\n      <td>Babies &amp; Kids</td>\n      <td>Girls' Fashion</td>\n      <td>Pajama</td>\n      <td>NaN</td>\n      <td>NaN</td>\n      <td>...</td>\n      <td>True</td>\n      <td>True</td>\n      <td>5 Star (5.1K)</td>\n      <td>4 Star (349)</td>\n      <td>3 Star (193)</td>\n      <td>2 Star (59)</td>\n      <td>1 Star (105)</td>\n      <td>With Comments (1.8K)</td>\n      <td>With Media (913)</td>\n      <td>NaN</td>\n    </tr>\n  </tbody>\n</table>\n<p>3 rows × 44 columns</p>\n</div>"
     },
     "metadata": {}
    }
   ],
   "source": [
    "display(df.head(3))"
   ]
  },
  {
   "source": [
    "# Data Cleaning\n",
    "## 1. Remove duplicates and null values"
   ],
   "cell_type": "markdown",
   "metadata": {}
  },
  {
   "cell_type": "code",
   "execution_count": 50,
   "metadata": {},
   "outputs": [
    {
     "output_type": "stream",
     "name": "stdout",
     "text": [
      "Number of duplicate rows:  (5, 44)\nNumber of rows after removing duplicates:  20995 \n\nNumber of rows after removing NULLs:  20918 \n\n<class 'pandas.core.frame.DataFrame'>\nInt64Index: 20918 entries, 0 to 20999\nData columns (total 42 columns):\n #   Column                  Non-Null Count  Dtype  \n---  ------                  --------------  -----  \n 0   URL                     20918 non-null  object \n 1   Page                    20918 non-null  float64\n 2   Preferred               20918 non-null  bool   \n 3   Mall                    20918 non-null  bool   \n 4   Product Name            20918 non-null  object \n 5   Main Category           20918 non-null  object \n 6   Sub Category 1          20645 non-null  object \n 7   Sub Category 2          18235 non-null  object \n 8   Current Rating          20918 non-null  float64\n 9   Total Rating            20918 non-null  object \n 10  Total Sold              20918 non-null  object \n 11  Favorite                20860 non-null  object \n 12  Discount Range          20918 non-null  object \n 13  Price Range             20918 non-null  object \n 14  Discount Percentage     20918 non-null  object \n 15  Free Shipping           20918 non-null  bool   \n 16  Free Shipping Info      9836 non-null   object \n 17  Shipping Location       20851 non-null  object \n 18  Shipping Price Range    20916 non-null  object \n 19  Brand Name              19257 non-null  object \n 20  Store Name              19576 non-null  object \n 21  Store Ratings           20862 non-null  object \n 22  Store Products Count    20862 non-null  object \n 23  Store Response Rate     20862 non-null  object \n 24  Store Response Time     19576 non-null  object \n 25  Store Joined            19576 non-null  object \n 26  Store Followers         19576 non-null  object \n 27  Shipping From           19568 non-null  object \n 28  Vouchers Available      20918 non-null  bool   \n 29  Bundle Details          20918 non-null  bool   \n 30  Coins Available         20918 non-null  bool   \n 31  Product Variation List  15007 non-null  object \n 32  Lowest Price Guarantee  20918 non-null  bool   \n 33  Whole Sale              20918 non-null  object \n 34  Five Star               20918 non-null  object \n 35  Four Star               20918 non-null  object \n 36  Three Star              20918 non-null  object \n 37  Two Star                20918 non-null  object \n 38  One Star                20918 non-null  object \n 39  With Comments           20918 non-null  object \n 40  With Media              20918 non-null  object \n 41  Description             19799 non-null  object \ndtypes: bool(7), float64(2), object(33)\nmemory usage: 5.9+ MB\n"
     ]
    }
   ],
   "source": [
    "# Remove duplicates\n",
    "duplicate_rows_df = df[df.duplicated()]\n",
    "df = df.drop_duplicates()\n",
    "print(\"Number of duplicate rows: \", duplicate_rows_df.shape)\n",
    "print(\"Number of rows after removing duplicates: \", df['URL'].count(), '\\n')\n",
    "\n",
    "# Drop NULL values\n",
    "df = df.drop(columns=['Sub Category 3', 'Sub Category 4'])\n",
    "df = df.dropna(subset=['Product Name'], axis='rows')\n",
    "print(\"Number of rows after removing NULLs: \", df['URL'].count(), '\\n')\n",
    "df.info()"
   ]
  },
  {
   "source": [
    "## 2. Clean up columns by removing Ks, Ms, ₱s, etc"
   ],
   "cell_type": "markdown",
   "metadata": {}
  },
  {
   "cell_type": "code",
   "execution_count": 51,
   "metadata": {},
   "outputs": [],
   "source": [
    "# Ks and Ms\n",
    "df['Favorite'] = df['Favorite'].astype(str).map(lambda x: x.replace('Favorite','').replace(' ','').replace('(','').replace(')',''))\n",
    "df['Favorite'] = df['Favorite'].map(lambda x: x.replace('K', '000').replace('M', '000000') if x.find('.')==-1 else x.replace('K', '00').replace('M', '00000').replace('.', ''))\n",
    "df['Five Star'] = df['Five Star'].astype(str).map(lambda x: x.replace('5 Star','').replace(' ','').replace('(','').replace(')',''))\n",
    "df['Five Star'] = df['Five Star'].map(lambda x: x.replace('K', '000').replace('M', '000000') if x.find('.')==-1 else x.replace('K', '00').replace('M', '00000').replace('.', ''))\n",
    "df['Four Star'] = df['Four Star'].astype(str).map(lambda x: x.replace('4 Star','').replace(' ','').replace('(','').replace(')',''))\n",
    "df['Four Star'] = df['Four Star'].map(lambda x: x.replace('K', '000').replace('M', '000000') if x.find('.')==-1 else x.replace('K', '00').replace('M', '00000').replace('.', ''))\n",
    "df['Three Star'] = df['Three Star'].astype(str).map(lambda x: x.replace('3 Star','').replace(' ','').replace('(','').replace(')',''))\n",
    "df['Three Star'] = df['Three Star'].map(lambda x: x.replace('K', '000').replace('M', '000000') if x.find('.')==-1 else x.replace('K', '00').replace('M', '00000').replace('.', ''))\n",
    "df['Two Star'] = df['Two Star'].astype(str).map(lambda x: x.replace('2 Star','').replace(' ','').replace('(','').replace(')',''))\n",
    "df['Two Star'] = df['Two Star'].map(lambda x: x.replace('K', '000').replace('M', '000000') if x.find('.')==-1 else x.replace('K', '00').replace('M', '00000').replace('.', ''))\n",
    "df['One Star'] = df['One Star'].astype(str).map(lambda x: x.replace('1 Star','').replace(' ','').replace('(','').replace(')',''))\n",
    "df['One Star'] = df['One Star'].map(lambda x: x.replace('K', '000').replace('M', '000000') if x.find('.')==-1 else x.replace('K', '00').replace('M', '00000').replace('.', ''))\n",
    "df['With Comments'] = df['With Comments'].astype(str).map(lambda x: x.replace('With Comments','').replace(' ','').replace('(','').replace(')',''))\n",
    "df['With Comments'] = df['With Comments'].map(lambda x: x.replace('K', '000').replace('M', '000000') if x.find('.')==-1 else x.replace('K', '00').replace('M', '00000').replace('.', ''))\n",
    "df['With Media'] = df['With Media'].astype(str).map(lambda x: x.replace('With Media','').replace(' ','').replace('(','').replace(')',''))\n",
    "df['With Media'] = df['With Media'].map(lambda x: x.replace('K', '000').replace('M', '000000') if x.find('.')==-1 else x.replace('K', '00').replace('M', '00000').replace('.', ''))\n",
    "df['Total Rating'] = df['Total Rating'].astype(str).map(lambda x: x.replace('K', '000').replace('M', '000000') if x.find('.')==-1 else x.replace('K', '00').replace('M', '00000').replace('.', ''))\n",
    "df['Total Sold'] = df['Total Sold'].astype(str).map(lambda x: x.replace('K', '000').replace('M', '000000') if x.find('.')==-1 else x.replace('K', '00').replace('M', '00000').replace('.', ''))\n",
    "df['Store Ratings'] = df['Store Ratings'].astype(str).map(lambda x: x.replace('K', '000').replace('M', '000000') if x.find('.')==-1 else x.replace('K', '00').replace('M', '00000').replace('.', ''))\n",
    "df['Store Followers'] = df['Store Followers'].astype(str).map(lambda x: x.replace('K', '000').replace('M', '000000') if x.find('.')==-1 else x.replace('K', '00').replace('M', '00000').replace('.', ''))\n",
    "df['Store Products Count'] = df['Store Products Count'].astype(str).map(lambda x: x.replace('K', '000').replace('M', '000') if x.find('.')==-1 else x.replace('K', '00').replace('M', '00000').replace('.', ''))\n",
    "\n",
    "# Prices\n",
    "df['Price Range'] = df['Price Range'].astype(str).map(lambda x: x.replace('₱','').replace(' ',''))\n",
    "df['Price Range'] = df['Price Range'].map(lambda x: x.split('-')[0])\n",
    "df['Discount Range'] = df['Discount Range'].astype(str).map(lambda x: x.replace('₱','').replace(' ',''))\n",
    "df['Discount Range'] = df['Discount Range'].map(lambda x: x.split('-')[0])\n",
    "df['Shipping Price Range'] = df['Shipping Price Range'].astype(str).map(lambda x: x.replace('₱','').replace(' ',''))\n",
    "df['Shipping Price Range'] = df['Shipping Price Range'].map(lambda x: x.split('-')[len(x.split('-'))-1])\n",
    "\n",
    "# Discounts\n",
    "df['Discount Percentage'] = df['Discount Percentage'].astype(str).map(lambda x: float(x.replace('% OFF',''))/100)\n",
    "\n",
    "# Variants\n",
    "df['Product Variation List'] = df['Product Variation List'].astype(str).map(lambda x: x.lower().replace('nan',''))\n",
    "\n",
    "# Percentage\n",
    "df['Store Response Rate'] = df['Store Response Rate'].astype(str).map(lambda x: str(float(x.replace('nan','0').replace('%',''))/100) if x!='' else x.replace('','0'))\n",
    "\n",
    "# Dates\n",
    "df['Store Joined'] = df['Store Joined'].astype(str).map(lambda x: x.replace('ago','').replace(' ','') if (x!='nan' and x!='')  else x.replace('nan','0').replace('','0'))\n",
    "df['Store Joined'] = df['Store Joined']\\\n",
    "    .map(lambda x: \\\n",
    "        str(int(x.replace('years', ''))*12) if x.find('years')!=-1 \\\n",
    "            else \\\n",
    "                (x.replace('months', '') if x.find('months')!=-1 \\\n",
    "                    else str(round(int(x.replace('days', ''))/30)) \\\n",
    "                ))\n",
    "\n",
    "# df.head(3)"
   ]
  },
  {
   "source": [
    "## 3. Make int and float conversions"
   ],
   "cell_type": "markdown",
   "metadata": {}
  },
  {
   "cell_type": "code",
   "execution_count": 52,
   "metadata": {},
   "outputs": [
    {
     "output_type": "execute_result",
     "data": {
      "text/plain": [
       "                                                 URL  Page  Preferred   Mall  \\\n",
       "0  https://shopee.ph/Kids-Everyday-Leggings-Sizes...   0.0       True  False   \n",
       "1  https://shopee.ph/CUTE-PAJAMA-TERNO-SLEEPWEAR-...   0.0      False  False   \n",
       "2  https://shopee.ph/TERNO-PAJAMA-FOR-KIDS-1-T0-1...   0.0      False  False   \n",
       "\n",
       "                                        Product Name  Main Category  \\\n",
       "0  Kids Everyday Leggings Sizes for Infant-10 Yea...  Babies & Kids   \n",
       "1  CUTE PAJAMA TERNO SLEEPWEAR 1-2 yrs old wholes...  Babies & Kids   \n",
       "2                   TERNO PAJAMA FOR KIDS 1 T0 10Y.O  Babies & Kids   \n",
       "\n",
       "    Sub Category 1 Sub Category 2  Current Rating  Total Rating  ...  \\\n",
       "0   Girls' Fashion         Bottom             4.9          4500  ...   \n",
       "1  Babies' Fashion            Set             4.9          7500  ...   \n",
       "2   Girls' Fashion         Pajama             4.8          5800  ...   \n",
       "\n",
       "   Lowest Price Guarantee  Whole Sale  Five Star  Four Star  Three Star  \\\n",
       "0                    True        True       4400        103          42   \n",
       "1                    True        True       7200        188          73   \n",
       "2                    True        True       5100        349         193   \n",
       "\n",
       "   Two Star One Star With Comments With Media Description  \n",
       "0         8        9          1300        853         NaN  \n",
       "1        23       20          3100       2000         NaN  \n",
       "2        59      105          1800        913         NaN  \n",
       "\n",
       "[3 rows x 42 columns]"
      ],
      "text/html": "<div>\n<style scoped>\n    .dataframe tbody tr th:only-of-type {\n        vertical-align: middle;\n    }\n\n    .dataframe tbody tr th {\n        vertical-align: top;\n    }\n\n    .dataframe thead th {\n        text-align: right;\n    }\n</style>\n<table border=\"1\" class=\"dataframe\">\n  <thead>\n    <tr style=\"text-align: right;\">\n      <th></th>\n      <th>URL</th>\n      <th>Page</th>\n      <th>Preferred</th>\n      <th>Mall</th>\n      <th>Product Name</th>\n      <th>Main Category</th>\n      <th>Sub Category 1</th>\n      <th>Sub Category 2</th>\n      <th>Current Rating</th>\n      <th>Total Rating</th>\n      <th>...</th>\n      <th>Lowest Price Guarantee</th>\n      <th>Whole Sale</th>\n      <th>Five Star</th>\n      <th>Four Star</th>\n      <th>Three Star</th>\n      <th>Two Star</th>\n      <th>One Star</th>\n      <th>With Comments</th>\n      <th>With Media</th>\n      <th>Description</th>\n    </tr>\n  </thead>\n  <tbody>\n    <tr>\n      <th>0</th>\n      <td>https://shopee.ph/Kids-Everyday-Leggings-Sizes...</td>\n      <td>0.0</td>\n      <td>True</td>\n      <td>False</td>\n      <td>Kids Everyday Leggings Sizes for Infant-10 Yea...</td>\n      <td>Babies &amp; Kids</td>\n      <td>Girls' Fashion</td>\n      <td>Bottom</td>\n      <td>4.9</td>\n      <td>4500</td>\n      <td>...</td>\n      <td>True</td>\n      <td>True</td>\n      <td>4400</td>\n      <td>103</td>\n      <td>42</td>\n      <td>8</td>\n      <td>9</td>\n      <td>1300</td>\n      <td>853</td>\n      <td>NaN</td>\n    </tr>\n    <tr>\n      <th>1</th>\n      <td>https://shopee.ph/CUTE-PAJAMA-TERNO-SLEEPWEAR-...</td>\n      <td>0.0</td>\n      <td>False</td>\n      <td>False</td>\n      <td>CUTE PAJAMA TERNO SLEEPWEAR 1-2 yrs old wholes...</td>\n      <td>Babies &amp; Kids</td>\n      <td>Babies' Fashion</td>\n      <td>Set</td>\n      <td>4.9</td>\n      <td>7500</td>\n      <td>...</td>\n      <td>True</td>\n      <td>True</td>\n      <td>7200</td>\n      <td>188</td>\n      <td>73</td>\n      <td>23</td>\n      <td>20</td>\n      <td>3100</td>\n      <td>2000</td>\n      <td>NaN</td>\n    </tr>\n    <tr>\n      <th>2</th>\n      <td>https://shopee.ph/TERNO-PAJAMA-FOR-KIDS-1-T0-1...</td>\n      <td>0.0</td>\n      <td>False</td>\n      <td>False</td>\n      <td>TERNO PAJAMA FOR KIDS 1 T0 10Y.O</td>\n      <td>Babies &amp; Kids</td>\n      <td>Girls' Fashion</td>\n      <td>Pajama</td>\n      <td>4.8</td>\n      <td>5800</td>\n      <td>...</td>\n      <td>True</td>\n      <td>True</td>\n      <td>5100</td>\n      <td>349</td>\n      <td>193</td>\n      <td>59</td>\n      <td>105</td>\n      <td>1800</td>\n      <td>913</td>\n      <td>NaN</td>\n    </tr>\n  </tbody>\n</table>\n<p>3 rows × 42 columns</p>\n</div>"
     },
     "metadata": {},
     "execution_count": 52
    }
   ],
   "source": [
    "# Make necessary int and float conversions\n",
    "ints = ['Total Rating', 'Total Sold', 'Favorite', 'Discount Range', 'Price Range', 'Discount Percentage', 'Store Ratings', 'Store Products Count', 'Store Joined', 'Five Star', 'Four Star', 'Three Star', 'Two Star', 'One Star', 'With Comments', 'With Media']\n",
    "floats = ['Current Rating','Store Response Rate']\n",
    "\n",
    "df[ints] = df[ints].apply(pd.to_numeric, errors='coerce')\n",
    "df[floats] = df[floats].apply(pd.to_numeric, errors='coerce')\n",
    "\n",
    "df_cleaned = df.copy()\n",
    "df_cleaned.head(3)"
   ]
  },
  {
   "cell_type": "code",
   "execution_count": 53,
   "metadata": {},
   "outputs": [],
   "source": [
    "df_cleaned.to_csv('cleaned_data_1000 (11.23.2020).csv')"
   ]
  },
  {
   "cell_type": "code",
   "execution_count": null,
   "metadata": {},
   "outputs": [],
   "source": []
  }
 ]
}